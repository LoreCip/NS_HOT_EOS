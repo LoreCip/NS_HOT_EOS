{
 "cells": [
  {
   "cell_type": "code",
   "execution_count": 1,
   "metadata": {},
   "outputs": [],
   "source": [
    "import os\n",
    "import h5py\n",
    "import numpy as np\n",
    "from multiprocessing import Pool\n"
   ]
  },
  {
   "cell_type": "code",
   "execution_count": 2,
   "metadata": {},
   "outputs": [],
   "source": [
    "PATH = '/home/lorenzo/phd/NS_HOT_EOS/EOS/compOSE/FOP(SFHoY)'\n",
    "h5_name = 'TEST_' + PATH.split('/')[-2] + '.h5'\n",
    "OUTPUT = os.path.join(PATH, h5_name)\n",
    "# files = [file for file in os.listdir(PATH) if 'eos.' in file and not '.pdf' in file and not '.init' in file]\n",
    "# files\n",
    "\n",
    "files = ['eos.nb', 'eos.thermo', 'eos.t', 'eos.yq']\n",
    "\n",
    "skip_rows = {\n",
    "                'eos.nb' : 2,\n",
    "                'eos.thermo' : 1,\n",
    "                'eos.t' : 2,\n",
    "                'eos.yq' : 2\n",
    "            }"
   ]
  },
  {
   "cell_type": "code",
   "execution_count": 3,
   "metadata": {},
   "outputs": [],
   "source": [
    "data = {}\n",
    "for file in files:\n",
    "    FILE_PATH = os.path.join(PATH, file)\n",
    "    data[file] = np.loadtxt(FILE_PATH, skiprows=skip_rows[file])\n",
    "    if file == 'eos.thermo':\n",
    "        with open(FILE_PATH) as f:\n",
    "            m_n, m_p, _ = np.fromstring(f.readline().strip('\\n'), dtype = float, sep='\\t')"
   ]
  },
  {
   "cell_type": "code",
   "execution_count": 4,
   "metadata": {},
   "outputs": [],
   "source": [
    "# Gli indici sono da 1 a N in Fortran, da 0 a N-1 in Python\n",
    "index_T    = data['eos.thermo'][:, 0].astype(int) - 1\n",
    "index_nb   = data['eos.thermo'][:, 1].astype(int) - 1\n",
    "index_ye   = data['eos.thermo'][:, 2].astype(int) - 1\n",
    "\n",
    "logrho     = np.log10(data['eos.nb'] * m_n)  # log_10( nb * m_n ), nb exponential   MeV / fm^3\n",
    "pointsrho  = len(logrho)\n",
    "\n",
    "y_e        = data['eos.yq']                  # LINEARE                 Adimensionale\n",
    "pointsye   = len(y_e)\n",
    "\n",
    "logtemp    = np.log10(data['eos.t'])         # log_10( T ), T exponential           MeV\n",
    "pointstemp = len(logtemp)"
   ]
  },
  {
   "cell_type": "code",
   "execution_count": 5,
   "metadata": {},
   "outputs": [],
   "source": [
    "maps = lambda i,j,k : i + pointsrho * pointsye * j + pointsye * k\n",
    "\n",
    "\n",
    "## COMPUTE PRESSURE, RESHAPE AND TEST FOR EQUIVALENCE!!! Secondo metodo circa 28 volte più veloce del primo\n",
    "\n",
    "pressure   = data['eos.thermo'][:, 3] * data['eos.nb'][index_nb]   # MeV / fm^3\n",
    "pp = np.zeros((pointsye, pointstemp, pointsrho))\n",
    "for i in range(pointsye):\n",
    "    for j in range(pointstemp):\n",
    "        for k in range(pointsrho):\n",
    "            pp[i, j, k] = pressure[maps(i,j,k)]\n",
    "\n",
    "pressure_r = pressure[maps(np.arange(pointsye)[:, None, None], np.arange(pointstemp)[None, :, None], np.arange(pointsrho)[None, None, :]) ]\n",
    "\n",
    "##### NEW\n",
    "pressure_shift = np.abs(np.min([np.min(pressure_r), 0])) * 1.01\n",
    "pressure_s = pressure_r + pressure_shift\n",
    "#####\n",
    "\n",
    "np.testing.assert_allclose(pressure_r, pp)\n",
    "\n",
    "#############################################\n",
    "## COMPUTE ENTROPY, RESHAPE AND TEST FOR EQUIVALENCE!!! Secondo metodo circa 28 volte più veloce del primo\n",
    "\n",
    "entropy    = data['eos.thermo'][:, 4] * data['eos.nb'][index_nb]   # Adimensionale\n",
    "ee = np.zeros((pointsye, pointstemp, pointsrho))\n",
    "for i in range(pointsye):\n",
    "    for j in range(pointstemp):\n",
    "        for k in range(pointsrho):\n",
    "            ee[i, j, k] = entropy[maps(i,j,k)]\n",
    "\n",
    "entropy_r = entropy[maps(np.arange(pointsye)[:, None, None], np.arange(pointstemp)[None, :, None], np.arange(pointsrho)[None, None, :]) ]\n",
    "\n",
    "np.testing.assert_allclose(entropy_r, ee)\n",
    "\n",
    "#############################################\n",
    "## COMPUTE ENERGY, RESHAPE AND TEST FOR EQUIVALENCE!!! Secondo metodo circa 28 volte più veloce del primo\n",
    "# Se ho capito bene Q7 --> data['eos.thermo'][:, 9] è esattamente \"energy\" negli h5 (da capire come la scala)\n",
    "energy     = data['eos.thermo'][:, 9]\n",
    "en = np.zeros((pointsye, pointstemp, pointsrho))\n",
    "for i in range(pointsye):\n",
    "    for j in range(pointstemp):\n",
    "        for k in range(pointsrho):\n",
    "            en[i, j, k] = energy[maps(i,j,k)]\n",
    "\n",
    "energy_r = energy[maps(np.arange(pointsye)[:, None, None], np.arange(pointstemp)[None, :, None], np.arange(pointsrho)[None, None, :]) ]\n",
    "\n",
    "energy_shift = np.abs(np.min([np.min(energy_r), 0])) * 1.01\n",
    "energy_s = energy_r + energy_shift\n",
    "\n",
    "\n",
    "np.testing.assert_allclose(energy_r, en)"
   ]
  },
  {
   "cell_type": "code",
   "execution_count": 16,
   "metadata": {},
   "outputs": [],
   "source": [
    "e = m_n * data['eos.nb'][index_nb] * ( 1 + data['eos.thermo'][:, 9] + energy_shift )\n",
    "e_r = e[maps(np.arange(pointsye)[:, None, None], np.arange(pointstemp)[None, :, None], np.arange(pointsrho)[None, None, :]) ]\n",
    "\n",
    "gamma = np.zeros_like(e_r)\n",
    "for i in range(pointsye):\n",
    "    for j in range(pointstemp):\n",
    "        x = np.log(e_r[i, j, :])\n",
    "        y = np.log(pressure_s[i, j, :])\n",
    "        gamma[i, j, :-1] = (y[1:] - y[:-1]) / (x[1:] - x[:-1])\n",
    "\n",
    "\n",
    "cs2 = np.zeros_like(e_r)\n",
    "for i in range(pointsye):\n",
    "    for j in range(pointstemp):\n",
    "        x = e_r[i, j, :]\n",
    "        y = pressure_s[i, j, :]\n",
    "        cs2[i, j, :-1] = (y[1:] - y[:-1]) / (x[1:] - x[:-1])"
   ]
  },
  {
   "cell_type": "code",
   "execution_count": 17,
   "metadata": {},
   "outputs": [],
   "source": [
    "logenergy = np.log10(energy_s)\n",
    "logpress = np.log10(pressure_s)\n",
    "\n",
    "\n",
    "# cs2 = pressure_s * gamma / e_r    # Adim"
   ]
  },
  {
   "cell_type": "code",
   "execution_count": 18,
   "metadata": {},
   "outputs": [
    {
     "data": {
      "text/plain": [
       "0.00972144291"
      ]
     },
     "execution_count": 18,
     "metadata": {},
     "output_type": "execute_result"
    }
   ],
   "source": [
    "energy_shift"
   ]
  },
  {
   "cell_type": "code",
   "execution_count": 21,
   "metadata": {},
   "outputs": [
    {
     "data": {
      "text/plain": [
       "0.0"
      ]
     },
     "execution_count": 21,
     "metadata": {},
     "output_type": "execute_result"
    }
   ],
   "source": [
    "pressure_shift"
   ]
  },
  {
   "cell_type": "code",
   "execution_count": null,
   "metadata": {},
   "outputs": [],
   "source": []
  },
  {
   "cell_type": "code",
   "execution_count": 19,
   "metadata": {},
   "outputs": [],
   "source": [
    "ds = {  \n",
    "        'logrho'   : logrho   , 'pointsrho'     : pointsrho, \n",
    "        'y_e'      : y_e      , 'pointsye'      : pointsye, \n",
    "        'logtemp'  : logtemp  , 'pointstemp'    : pointstemp, \n",
    "        'logpress' : logpress , 'pressure_shift': pressure_shift,\n",
    "        'entropy'  : entropy_r, \n",
    "        'logenergy': logenergy, 'energy_shift'  : energy_shift,\n",
    "        'gamma'    : gamma    , 'cs2'           : cs2\n",
    "    }"
   ]
  },
  {
   "cell_type": "code",
   "execution_count": 20,
   "metadata": {},
   "outputs": [
    {
     "name": "stderr",
     "output_type": "stream",
     "text": [
      "sh: 1: Syntax error: \"(\" unexpected\n"
     ]
    }
   ],
   "source": [
    "import os\n",
    "os.system(f'rm {OUTPUT}')\n",
    "\n",
    "with h5py.File(OUTPUT, \"w\") as f:\n",
    "    for d in ds:\n",
    "        dset = f.create_dataset(d, data=ds[d], dtype='f')"
   ]
  },
  {
   "cell_type": "code",
   "execution_count": null,
   "metadata": {},
   "outputs": [],
   "source": []
  },
  {
   "cell_type": "code",
   "execution_count": null,
   "metadata": {},
   "outputs": [],
   "source": []
  }
 ],
 "metadata": {
  "kernelspec": {
   "display_name": "venv",
   "language": "python",
   "name": "python3"
  },
  "language_info": {
   "codemirror_mode": {
    "name": "ipython",
    "version": 3
   },
   "file_extension": ".py",
   "mimetype": "text/x-python",
   "name": "python",
   "nbconvert_exporter": "python",
   "pygments_lexer": "ipython3",
   "version": "3.10.6"
  },
  "orig_nbformat": 4,
  "vscode": {
   "interpreter": {
    "hash": "e93ca5520f225d1ab3b5a16366e62be7f564143f885fceba6e129ad9630726fd"
   }
  }
 },
 "nbformat": 4,
 "nbformat_minor": 2
}
