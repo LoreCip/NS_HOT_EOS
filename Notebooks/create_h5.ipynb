{
 "cells": [
  {
   "cell_type": "code",
   "execution_count": 97,
   "metadata": {},
   "outputs": [],
   "source": [
    "import os\n",
    "import h5py\n",
    "import numpy as np\n"
   ]
  },
  {
   "cell_type": "markdown",
   "metadata": {},
   "source": []
  },
  {
   "cell_type": "code",
   "execution_count": 98,
   "metadata": {},
   "outputs": [],
   "source": [
    "PATH = '../EOS/compOSE/FOP(SFHoY)/'\n",
    "# files = [file for file in os.listdir(PATH) if 'eos.' in file and not '.pdf' in file and not '.init' in file]\n",
    "# files\n",
    "\n",
    "files = ['eos.nb', 'eos.thermo', 'eos.t', 'eos.yq']"
   ]
  },
  {
   "cell_type": "code",
   "execution_count": 99,
   "metadata": {},
   "outputs": [],
   "source": [
    "skip_rows = {\n",
    "                'eos.nb' : 2,\n",
    "                'eos.thermo' : 1,\n",
    "                'eos.t' : 2,\n",
    "                'eos.yq' : 2\n",
    "            }\n",
    "\n",
    "data = {}\n",
    "for file in files:\n",
    "    data[file] = np.loadtxt(PATH + file, skiprows=skip_rows[file])\n",
    "    if file == 'eos.thermo':\n",
    "        with open(PATH + file) as f:\n",
    "            m_n, m_p, _ = np.fromstring(f.readline().strip('\\n'), dtype = float, sep='\\t')"
   ]
  },
  {
   "cell_type": "code",
   "execution_count": 100,
   "metadata": {},
   "outputs": [],
   "source": [
    "# Gli indici sono da 1 a N in Fortran, da 0 a N-1 in Python\n",
    "index_T    = data['eos.thermo'][:, 0].astype(int) - 1\n",
    "index_nb   = data['eos.thermo'][:, 1].astype(int) - 1\n",
    "index_ye   = data['eos.thermo'][:, 2].astype(int) - 1\n",
    "\n",
    "rho        = data['eos.nb'] * m_n     # LOGARITMICO     MeV / fm^3\n",
    "pointsrho  = len(rho)\n",
    "\n",
    "y_e        = data['eos.yq']           # LINEARE         Adimensionale\n",
    "pointsye   = len(y_e)\n",
    "\n",
    "temp       = data['eos.t']            # LOGARITMICO     MeV\n",
    "pointstemp = len(temp)\n",
    "\n",
    "maps = lambda i,j,k : i + pointsrho * pointsye * j + pointsye * k\n",
    "\n",
    "\n",
    "## COMPUTE PRESSURE, RESHAPE AND TEST FOR EQUIVALENCE!!! Secondo metodo circa 28 volte più veloce del primo\n",
    "\n",
    "pressure   = data['eos.thermo'][:, 3] * data['eos.nb'][index_nb]   # MeV / fm^3\n",
    "pp = np.zeros((pointsye, pointstemp, pointsrho))\n",
    "for i in range(pointsye):\n",
    "    for j in range(pointstemp):\n",
    "        for k in range(pointsrho):\n",
    "            pp[i, j, k] = pressure[maps(i,j,k)]\n",
    "\n",
    "pressure_r = pressure[maps(np.arange(pointsye)[:, None, None], np.arange(pointstemp)[None, :, None], np.arange(pointsrho)[None, None, :]) ]\n",
    "\n",
    "np.testing.assert_allclose(pressure_r, pp)\n",
    "\n",
    "#############################################\n",
    "## COMPUTE ENTROPY, RESHAPE AND TEST FOR EQUIVALENCE!!! Secondo metodo circa 28 volte più veloce del primo\n",
    "\n",
    "entropy    = data['eos.thermo'][:, 4] * data['eos.nb'][index_nb]   # Adimensionale\n",
    "ee = np.zeros((pointsye, pointstemp, pointsrho))\n",
    "for i in range(pointsye):\n",
    "    for j in range(pointstemp):\n",
    "        for k in range(pointsrho):\n",
    "            ee[i, j, k] = entropy[maps(i,j,k)]\n",
    "\n",
    "entropy_r = entropy[maps(np.arange(pointsye)[:, None, None], np.arange(pointstemp)[None, :, None], np.arange(pointsrho)[None, None, :]) ]\n",
    "\n",
    "np.testing.assert_allclose(entropy_r, ee)\n",
    "\n",
    "#############################################\n",
    "## COMPUTE ENERGY, RESHAPE AND TEST FOR EQUIVALENCE!!! Secondo metodo circa 28 volte più veloce del primo\n",
    "# Se ho capito bene Q7 --> data['eos.thermo'][:, 9] è esattamente \"energy\" negli h5 (da capire come la scala)\n",
    "energy     = data['eos.thermo'][:, 9]\n",
    "en = np.zeros((pointsye, pointstemp, pointsrho))\n",
    "for i in range(pointsye):\n",
    "    for j in range(pointstemp):\n",
    "        for k in range(pointsrho):\n",
    "            en[i, j, k] = energy[maps(i,j,k)]\n",
    "\n",
    "energy_r = energy[maps(np.arange(pointsye)[:, None, None], np.arange(pointstemp)[None, :, None], np.arange(pointsrho)[None, None, :]) ]\n",
    "\n",
    "np.testing.assert_allclose(energy_r, en)\n"
   ]
  },
  {
   "cell_type": "code",
   "execution_count": 104,
   "metadata": {},
   "outputs": [],
   "source": [
    "ds = {'rho':rho, 'pointsrho':pointsrho, 'y_e':y_e, 'pointsye':pointsye, 'temp':temp, 'pointstemp':pointstemp, 'pressure':pressure_r, 'entropy':entropy_r, 'energy':energy_r}"
   ]
  },
  {
   "cell_type": "code",
   "execution_count": null,
   "metadata": {},
   "outputs": [],
   "source": [
    "with h5py.File(PATH + \"TEST_FOP(SFHoY).h5\", \"w\") as f:\n",
    "    for d in ds:\n",
    "        dset = f.create_dataset(d, data=ds[d], dtype='f')"
   ]
  },
  {
   "cell_type": "code",
   "execution_count": null,
   "metadata": {},
   "outputs": [],
   "source": []
  },
  {
   "cell_type": "code",
   "execution_count": null,
   "metadata": {},
   "outputs": [],
   "source": []
  }
 ],
 "metadata": {
  "kernelspec": {
   "display_name": "venv",
   "language": "python",
   "name": "python3"
  },
  "language_info": {
   "codemirror_mode": {
    "name": "ipython",
    "version": 3
   },
   "file_extension": ".py",
   "mimetype": "text/x-python",
   "name": "python",
   "nbconvert_exporter": "python",
   "pygments_lexer": "ipython3",
   "version": "3.10.6"
  },
  "orig_nbformat": 4,
  "vscode": {
   "interpreter": {
    "hash": "e93ca5520f225d1ab3b5a16366e62be7f564143f885fceba6e129ad9630726fd"
   }
  }
 },
 "nbformat": 4,
 "nbformat_minor": 2
}
