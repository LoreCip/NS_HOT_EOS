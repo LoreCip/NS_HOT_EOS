{
 "cells": [
  {
   "cell_type": "code",
   "execution_count": 1,
   "metadata": {},
   "outputs": [],
   "source": [
    "import numpy as np\n",
    "import h5py\n",
    "\n",
    "import matplotlib.pyplot as plt\n",
    "%matplotlib widget"
   ]
  },
  {
   "cell_type": "code",
   "execution_count": 3,
   "metadata": {},
   "outputs": [],
   "source": [
    "data = {}\n",
    "new_data = {}\n",
    "\n",
    "with h5py.File('../EOS/LS220_234r_136t_50y_analmu_20091212_SVNr26.h5') as f:\n",
    "    keys = list(f.keys())\n",
    "    for key in keys:\n",
    "        data[key] = np.array(f[key])"
   ]
  },
  {
   "cell_type": "code",
   "execution_count": 7,
   "metadata": {},
   "outputs": [],
   "source": [
    "ggrav = 6.6738480e-8 #cgs\n",
    "clite = 2.99792458e10 #cgs\n",
    "msun = 1.9884e33 #cgs\n",
    "\n",
    "Clength = ggrav * msun / clite**2\n",
    "\n",
    "MeVc2_to_grams = 1.78266232885782e-27\n",
    "baryonic_mass = 939.56542052 # Mev / c^2\n"
   ]
  },
  {
   "cell_type": "code",
   "execution_count": 44,
   "metadata": {},
   "outputs": [
    {
     "name": "stdout",
     "output_type": "stream",
     "text": [
      "54.7 µs ± 862 ns per loop (mean ± std. dev. of 7 runs, 10,000 loops each)\n"
     ]
    }
   ],
   "source": [
    "%%timeit\n",
    "\n",
    "VC_baryon_mass_density = 10**data['logrho']\n",
    "\n",
    "VC_ye_0_idx = np.argmin(data['logenergy'][:, 0, :], axis = 0)\n",
    "entry = np.array(range(0, len(VC_ye_0_idx)))\n",
    "VC_eps = 10**data['logenergy'][VC_ye_0_idx, 0, entry] - data['energy_shift'][0] # erg / gr\n",
    "VC_pressure = 10**data['logpress'][VC_ye_0_idx, 0, entry] # dyn / cm^2\n",
    "VC_cs2 = data['cs2'][VC_ye_0_idx, 0, entry]\n",
    "\n",
    "VC_energy_density = baryon_mass_density * (1 + VC_eps/clite**2)\n",
    "\n",
    "VC_logh              = np.array(cs2) * np.log((energy_density + pressure/clite**2) / baryon_mass_density)\n",
    "VC_logh[VC_logh < 0]    = 1"
   ]
  },
  {
   "cell_type": "code",
   "execution_count": 45,
   "metadata": {},
   "outputs": [
    {
     "name": "stdout",
     "output_type": "stream",
     "text": [
      "650 µs ± 4.6 µs per loop (mean ± std. dev. of 7 runs, 1,000 loops each)\n"
     ]
    }
   ],
   "source": [
    "%%timeit\n",
    "\n",
    "baryon_mass_density = []\n",
    "energy_density = []\n",
    "pressure = []\n",
    "cs2 = []\n",
    "ye_0_list = []\n",
    "\n",
    "for r_idx, r in enumerate(10**data['logrho']):\n",
    "    baryon_mass_density.append(r)  # gr / cm^3\n",
    "\n",
    "    ye_0_idx = np.argmin(data['logenergy'][:, 0, r_idx])\n",
    "    ye_0_list.append(ye_0_idx)\n",
    "    \n",
    "    eps = 10**data['logenergy'][ye_0_idx, 0, r_idx] - data['energy_shift'][0] # erg / gr\n",
    "    pp = 10**data['logpress'][ye_0_idx, 0, r_idx] # dyn / cm^2\n",
    "\n",
    "    energy_density.append(baryon_mass_density[-1] * (1 + eps/clite**2)) # gr / cm^3\n",
    "    pressure.append(pp) # dyn / cm^2\n",
    "    cs2.append(data['cs2'][ye_0_idx, 0, r_idx]) # cm^2 / s^2\n",
    "\n",
    "baryon_mass_density   =  np.array(baryon_mass_density)\n",
    "baryon_number_density =  baryon_mass_density / baryonic_mass / MeVc2_to_grams  # 1 / cm^3\n",
    "energy_density    =  np.array(energy_density)   \n",
    "pressure          =  np.array(pressure)   \n",
    "logh              = np.array(cs2) * np.log((energy_density + pressure/clite**2) / baryon_mass_density)\n",
    "logh[logh < 0]    = 1\n"
   ]
  },
  {
   "cell_type": "code",
   "execution_count": 43,
   "metadata": {},
   "outputs": [
    {
     "name": "stdout",
     "output_type": "stream",
     "text": [
      "Passed\n",
      "Passed\n",
      "Passed\n",
      "Passed\n",
      "Passed\n",
      "Passed\n"
     ]
    }
   ],
   "source": [
    "# TESTS\n",
    "\n",
    "# same rho\n",
    "np.testing.assert_allclose(baryon_mass_density, VC_baryon_mass_density)\n",
    "print('Passed')\n",
    "# same ye_0\n",
    "np.testing.assert_array_equal(ye_0_list, VC_ye_0_idx)\n",
    "print('Passed')\n",
    "# same P\n",
    "np.testing.assert_allclose(pressure, VC_pressure)\n",
    "print('Passed')\n",
    "# same e\n",
    "np.testing.assert_allclose(energy_density, VC_energy_density)\n",
    "print('Passed')\n",
    "# same cs2\n",
    "np.testing.assert_allclose(cs2, VC_cs2)\n",
    "print('Passed')\n",
    "# same logh\n",
    "np.testing.assert_allclose(logh, VC_logh)\n",
    "print('Passed')\n"
   ]
  },
  {
   "cell_type": "code",
   "execution_count": 8,
   "metadata": {},
   "outputs": [],
   "source": [
    "# import os\n",
    "\n",
    "# os.system('rm EOS_RNSID.LS220')\n",
    "\n",
    "# with open(\"EOS_RNSID.LS220\", \"a\") as f:\n",
    "#     f.write(f\"{len(baryon_mass_density)}\\n\")\n",
    "#     np.savetxt(f, np.c_[energy_density, pressure, logh, baryon_number_density])\n",
    "    "
   ]
  },
  {
   "cell_type": "code",
   "execution_count": 9,
   "metadata": {},
   "outputs": [
    {
     "name": "stdout",
     "output_type": "stream",
     "text": [
      "rho_central = 0.016188709313274225\n"
     ]
    }
   ],
   "source": [
    "rho_central = baryon_number_density[-1] * baryonic_mass * MeVc2_to_grams / (msun / Clength**3)\n",
    "print(f'{rho_central = }')"
   ]
  },
  {
   "cell_type": "code",
   "execution_count": null,
   "metadata": {},
   "outputs": [],
   "source": []
  },
  {
   "cell_type": "code",
   "execution_count": null,
   "metadata": {},
   "outputs": [],
   "source": []
  }
 ],
 "metadata": {
  "kernelspec": {
   "display_name": "Python 3.10.6 ('venv': venv)",
   "language": "python",
   "name": "python3"
  },
  "language_info": {
   "codemirror_mode": {
    "name": "ipython",
    "version": 3
   },
   "file_extension": ".py",
   "mimetype": "text/x-python",
   "name": "python",
   "nbconvert_exporter": "python",
   "pygments_lexer": "ipython3",
   "version": "3.10.6"
  },
  "orig_nbformat": 4,
  "vscode": {
   "interpreter": {
    "hash": "e93ca5520f225d1ab3b5a16366e62be7f564143f885fceba6e129ad9630726fd"
   }
  }
 },
 "nbformat": 4,
 "nbformat_minor": 2
}
