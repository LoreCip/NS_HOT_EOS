{
 "cells": [
  {
   "cell_type": "code",
   "execution_count": 1,
   "metadata": {},
   "outputs": [],
   "source": [
    "import os\n",
    "import h5py\n",
    "import numpy as np\n",
    "from numba import njit\n",
    "from itertools import chain\n",
    "import romspline\n",
    "from scipy.interpolate import CubicSpline \n",
    "\n",
    "def compare_approximate(first, second):\n",
    "    \"\"\"Return whether two dicts of arrays are roughly equal\"\"\"\n",
    "    if first.keys() != second.keys():\n",
    "        return False, 1\n",
    "        \n",
    "    return all(np.allclose(first[key], second[key], equal_nan=True) for key in first), 0\n"
   ]
  },
  {
   "cell_type": "code",
   "execution_count": 2,
   "metadata": {},
   "outputs": [],
   "source": [
    "PATH = '/home/lorenzo/phd/NS_HOT_EOS/EOS/compOSE/FOP(SFHoY)'\n",
    "h5_name = 'TEST_' + PATH.split('/')[-1] + '.h5'\n",
    "OUTPUT = os.path.join(PATH, h5_name)\n",
    "files = [file for file in os.listdir(PATH) if 'eos.' in file and not '.pdf' in file and not '.init' in file]\n",
    "# files\n",
    "\n",
    "files = ['eos.nb', 'eos.thermo', 'eos.t', 'eos.yq', 'eos.compo']\n",
    "\n",
    "skip_rows = {\n",
    "                'eos.nb' : 2,\n",
    "                'eos.thermo' : 1,\n",
    "                'eos.t' : 2,\n",
    "                'eos.yq' : 2,\n",
    "                'eos.compo' : 0\n",
    "            }\n",
    "\n",
    "def custom_read(FILE_PATH):\n",
    "\n",
    "    with open(FILE_PATH, 'r') as f:\n",
    "        all_data=[x.split() for x in f.readlines()]\n",
    "\n",
    "    n_cols = max(len(line) for line in all_data)\n",
    "    n_rows = len(all_data)\n",
    "    out_arr = np.full((n_rows, n_cols), np.NaN)\n",
    "\n",
    "    for i, line in enumerate(all_data):\n",
    "        out_arr[i, :len(line)] = np.array(line, dtype = np.float64)\n",
    "    \n",
    "    return out_arr\n"
   ]
  },
  {
   "cell_type": "code",
   "execution_count": 3,
   "metadata": {},
   "outputs": [],
   "source": [
    "\n",
    "data = {}\n",
    "for file in files:\n",
    "    FILE_PATH = os.path.join(PATH, file)\n",
    "    try:\n",
    "        data[file] = np.loadtxt(FILE_PATH, skiprows=skip_rows[file], dtype=np.float64)\n",
    "        if file == 'eos.thermo':\n",
    "            with open(FILE_PATH) as f:\n",
    "                m_n, m_p, _ = np.fromstring(f.readline().strip('\\n'), dtype = float, sep='\\t')\n",
    "    except ValueError:\n",
    "        data[file] = custom_read(FILE_PATH)\n",
    "    except KeyError:\n",
    "        print(f'{file} not found!')\n",
    "\n",
    "    "
   ]
  },
  {
   "cell_type": "code",
   "execution_count": 4,
   "metadata": {},
   "outputs": [],
   "source": [
    "# Gli indici sono da 1 a N in Fortran, da 0 a N-1 in Python\n",
    "index_T    = data['eos.thermo'][:, 0].astype(int) - 1\n",
    "index_nb   = data['eos.thermo'][:, 1].astype(int) - 1\n",
    "index_yq   = data['eos.thermo'][:, 2].astype(int) - 1\n",
    "\n",
    "logrho     = np.log10(data['eos.nb'] * m_n)  # log_10( nb * m_n ), nb exponential   MeV / fm^3\n",
    "pointsrho  = len(logrho)\n",
    "\n",
    "y_q        = data['eos.yq']                  # LINEARE                 Adimensionale\n",
    "pointsyq   = len(y_q)\n",
    "\n",
    "logtemp    = np.log10(data['eos.t'])         # log_10( T ), T exponential           MeV\n",
    "pointstemp = len(logtemp)"
   ]
  },
  {
   "cell_type": "code",
   "execution_count": 5,
   "metadata": {},
   "outputs": [],
   "source": [
    "# Map from (i_T, i_nb, i_Ye) to 1D index\n",
    "def maps(i, j, k, pointsrho, pointsyq):\n",
    "    \"\"\"\n",
    "    Defines a function that maps indices from the original matrix to the reshaped matrix calculating the index in the original matrix corresponding to the given indices in the reshaped matrix.\n",
    "    \"\"\"\n",
    "    return i + pointsrho * pointsyq * j + pointsyq * k\n",
    "\n",
    " \n",
    "def reshape_array(original_matrix, pointsrho, pointstemp, pointsyq):\n",
    "    \"\"\"\n",
    "    Reshapes the original matrix into the desired shape using the maps function.\n",
    "    \"\"\"\n",
    "    indices = maps(np.arange(pointsyq)[:, None, None], np.arange(pointstemp)[None, :, None], np.arange(pointsrho)[None, None, :], pointsrho, pointsyq)\n",
    "    # Returns the values from the original matrix at the calculated indices\n",
    "    return np.take(original_matrix, indices)\n"
   ]
  },
  {
   "cell_type": "code",
   "execution_count": 6,
   "metadata": {},
   "outputs": [],
   "source": [
    "## COMPUTE PRESSURE, RESHAPE AND TEST FOR EQUIVALENCE!!! Secondo metodo circa 28 volte più veloce del primo\n",
    "\n",
    "pressure   = data['eos.thermo'][:, 3] * data['eos.nb'][index_nb]   # MeV / fm^3\n",
    "pp = np.zeros((pointsyq, pointstemp, pointsrho))\n",
    "for i in range(pointsyq):\n",
    "    for j in range(pointstemp):\n",
    "        for k in range(pointsrho):\n",
    "            pp[i, j, k] = pressure[maps(i,j,k, pointsrho, pointsyq)]\n",
    "\n",
    "pressure_r = reshape_array(pressure, pointsrho, pointstemp, pointsyq)\n",
    "\n",
    "##### NEW\n",
    "pressure_shift = np.abs(np.min([np.min(pressure_r), 0])) * 1.01\n",
    "pressure_s = pressure_r + pressure_shift\n",
    "#####\n",
    "\n",
    "np.testing.assert_allclose(pressure_r, pp)\n",
    "\n",
    "#############################################\n",
    "## COMPUTE ENTROPY, RESHAPE AND TEST FOR EQUIVALENCE!!! Secondo metodo circa 28 volte più veloce del primo\n",
    "\n",
    "entropy    = data['eos.thermo'][:, 4] * data['eos.nb'][index_nb]   # Adimensionale\n",
    "ee = np.zeros((pointsyq, pointstemp, pointsrho))\n",
    "for i in range(pointsyq):\n",
    "    for j in range(pointstemp):\n",
    "        for k in range(pointsrho):\n",
    "            ee[i, j, k] = entropy[maps(i,j,k, pointsrho, pointsyq)]\n",
    "\n",
    "entropy_r = reshape_array(entropy, pointsrho, pointstemp, pointsyq)\n",
    "\n",
    "np.testing.assert_allclose(entropy_r, ee)\n",
    "\n",
    "#############################################\n",
    "## COMPUTE ENERGY, RESHAPE AND TEST FOR EQUIVALENCE!!! Secondo metodo circa 28 volte più veloce del primo\n",
    "# Se ho capito bene Q7 --> data['eos.thermo'][:, 9] è esattamente \"energy\" negli h5 (da capire come la scala)\n",
    "energy     = data['eos.thermo'][:, 9]\n",
    "en = np.zeros((pointsyq, pointstemp, pointsrho))\n",
    "for i in range(pointsyq):\n",
    "    for j in range(pointstemp):\n",
    "        for k in range(pointsrho):\n",
    "            en[i, j, k] = energy[maps(i,j,k, pointsrho, pointsyq)]\n",
    "\n",
    "energy_r = reshape_array(energy, pointsrho, pointstemp, pointsyq)\n",
    "\n",
    "energy_shift = np.abs(np.min([np.min(energy_r), 0])) * 1.01\n",
    "energy_s = energy_r + energy_shift\n",
    "\n",
    "np.testing.assert_allclose(energy_r, en)\n",
    "\n",
    "\n",
    "\n",
    "logenergy = np.log10(energy_s)\n",
    "logpress = np.log10(pressure_s)"
   ]
  },
  {
   "attachments": {},
   "cell_type": "markdown",
   "metadata": {},
   "source": [
    "# $c_s^2$ and $\\gamma$ (if the derivative is correct)"
   ]
  },
  {
   "attachments": {},
   "cell_type": "markdown",
   "metadata": {},
   "source": [
    "# Spline"
   ]
  },
  {
   "cell_type": "code",
   "execution_count": 7,
   "metadata": {},
   "outputs": [],
   "source": [
    "e = m_n * data['eos.nb'][index_nb] * ( 1 + data['eos.thermo'][:, 9] )\n",
    "e_r = reshape_array(e, pointsrho, pointstemp, pointsyq)"
   ]
  },
  {
   "cell_type": "code",
   "execution_count": 27,
   "metadata": {},
   "outputs": [],
   "source": [
    "dpdnb = np.zeros_like(e_r)\n",
    "dednb = np.zeros_like(e_r)\n",
    "dpdt = np.zeros_like(e_r)\n",
    "dedt = np.zeros_like(e_r)\n",
    "dpdy = np.zeros_like(e_r)\n",
    "dedy = np.zeros_like(e_r)\n",
    "\n",
    "order = 1\n",
    "\n",
    "for i in range(pointsyq):\n",
    "    for j in range(pointstemp):\n",
    "        dpdnb[i, j, :] = CubicSpline(data['eos.nb'], pressure_s[i, j, :]).derivative(nu=order)(data['eos.nb'])\n",
    "        dednb[i, j, :] = CubicSpline(data['eos.nb'], e_r[i, j, :]).derivative(nu=order)(data['eos.nb'])\n",
    "\n",
    "for i in range(pointsyq):\n",
    "    for j in range(pointsrho):\n",
    "        dpdt[i, :, j] = CubicSpline(data['eos.t'], pressure_s[i, :, j]).derivative(nu=order)(data['eos.t'])\n",
    "        dedt[i, :, j] = CubicSpline(data['eos.t'], e_r[i, :, j]).derivative(nu=order)(data['eos.t'])\n",
    "\n",
    "for i in range(pointstemp):\n",
    "    for j in range(pointsrho):\n",
    "            dpdy[:, i, j] = CubicSpline(data['eos.yq'], pressure_s[:, i, j]).derivative(nu=order)(data['eos.yq'])\n",
    "            dedy[:, i, j] = CubicSpline(data['eos.yq'], e_r[:, i, j]).derivative(nu=order)(data['eos.yq'])\n",
    "\n",
    "cs2_spline = dpdnb/dednb + dpdt/dedt + dpdy/dedy"
   ]
  },
  {
   "cell_type": "code",
   "execution_count": 26,
   "metadata": {},
   "outputs": [],
   "source": [
    "def first_derivative(y, x):\n",
    "  return CubicSpline(x, y).derivative(nu=1)(x)\n",
    "\n",
    "dpdnb_2 = np.apply_along_axis(first_derivative, 2, pressure_s, data['eos.nb'])\n",
    "dednb_2 = np.apply_along_axis(first_derivative, 2, e_r       , data['eos.nb'])\n",
    "dpdt_2  = np.apply_along_axis(first_derivative, 1, pressure_s, data['eos.t'] )\n",
    "dedt_2  = np.apply_along_axis(first_derivative, 1, e_r       , data['eos.t'] )\n",
    "dpdy_2  = np.apply_along_axis(first_derivative, 0, pressure_s, data['eos.yq'])\n",
    "dedy_2  = np.apply_along_axis(first_derivative, 0, e_r       , data['eos.yq'])\n",
    "\n",
    "cs2_spline_2 = dpdnb_2/dednb_2 + dpdt_2/dedt_2 + dpdy_2/dedy_2"
   ]
  },
  {
   "cell_type": "code",
   "execution_count": 28,
   "metadata": {},
   "outputs": [],
   "source": [
    "np.testing.assert_allclose(cs2_spline, cs2_spline_2)"
   ]
  },
  {
   "attachments": {},
   "cell_type": "markdown",
   "metadata": {},
   "source": [
    "## Standard"
   ]
  },
  {
   "cell_type": "code",
   "execution_count": 12,
   "metadata": {},
   "outputs": [
    {
     "name": "stderr",
     "output_type": "stream",
     "text": [
      "/tmp/ipykernel_284/3473401020.py:31: RuntimeWarning: divide by zero encountered in divide\n",
      "  cs2 = dpdnb/dednb + dpdt/dedt + dpdy/dedy\n",
      "/tmp/ipykernel_284/3473401020.py:31: RuntimeWarning: invalid value encountered in divide\n",
      "  cs2 = dpdnb/dednb + dpdt/dedt + dpdy/dedy\n",
      "/tmp/ipykernel_284/3473401020.py:31: RuntimeWarning: invalid value encountered in add\n",
      "  cs2 = dpdnb/dednb + dpdt/dedt + dpdy/dedy\n"
     ]
    }
   ],
   "source": [
    "e = m_n * data['eos.nb'][index_nb] * ( 1 + data['eos.thermo'][:, 9] )\n",
    "e_r = reshape_array(e, pointsrho, pointstemp, pointsyq)\n",
    "\n",
    "dpdnb = np.zeros_like(e_r)\n",
    "dednb = np.zeros_like(e_r)\n",
    "for i in range(pointsyq):\n",
    "    for j in range(pointstemp):\n",
    "        for k in range(pointsrho-1):\n",
    "            h = data['eos.nb'][k+1] - data['eos.nb'][k]\n",
    "            dpdnb[i, j, k] = (pressure_s[i, j, k+1] - pressure_s[i, j, k]) / ( h )\n",
    "            dednb[i, j, k] = (e_r[i, j, k+1] - e_r[i, j, k]) / ( h )\n",
    "\n",
    "dpdt = np.zeros_like(e_r)\n",
    "dedt = np.zeros_like(e_r)\n",
    "for i in range(pointsyq):\n",
    "    for j in range(pointsrho):\n",
    "        for k in range(pointstemp-1):\n",
    "            h = data['eos.t'][k+1] - data['eos.t'][k]\n",
    "            dpdt[i, k, j] = (pressure_s[i, k+1, j] - pressure_s[i, k, j]) / ( h )\n",
    "            dedt[i, k, j] = (e_r[i, k+1, j] - e_r[i, k, j]) / ( h )\n",
    "\n",
    "dpdy = np.zeros_like(e_r)\n",
    "dedy = np.zeros_like(e_r)\n",
    "for i in range(pointstemp):\n",
    "    for j in range(pointsrho):\n",
    "        for k in range(pointsyq-1):\n",
    "            h = data['eos.yq'][k+1] - data['eos.yq'][k]\n",
    "            dpdy[k, i, j] = (pressure_s[k+1, i, j] - pressure_s[k, i, j]) / ( h )\n",
    "            dedy[k, i, j] = (e_r[k+1, i, j] - e_r[k, i, j]) / ( h )\n",
    "\n",
    "cs2 = dpdnb/dednb + dpdt/dedt + dpdy/dedy"
   ]
  },
  {
   "cell_type": "code",
   "execution_count": 42,
   "metadata": {},
   "outputs": [
    {
     "data": {
      "text/plain": [
       "[<matplotlib.lines.Line2D at 0x7f608d2f6980>]"
      ]
     },
     "execution_count": 42,
     "metadata": {},
     "output_type": "execute_result"
    },
    {
     "data": {
      "application/vnd.jupyter.widget-view+json": {
       "model_id": "51cd6395dc94406c8db5b34cc2e6988e",
       "version_major": 2,
       "version_minor": 0
      },
      "image/png": "[encoded data removed]",
      "text/html": [
       "\n",
       "            <div style=\"display: inline-block;\">\n",
       "                <div class=\"jupyter-widgets widget-label\" style=\"text-align: center;\">\n",
       "                    Figure\n",
       "                </div>\n",
       "                <img src='data:image/png;base64,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' width=640.0/>\n",
       "            </div>\n",
       "        "
      ],
      "text/plain": [
       "Canvas(toolbar=Toolbar(toolitems=[('Home', 'Reset original view', 'home', 'home'), ('Back', 'Back to previous …"
      ]
     },
     "metadata": {},
     "output_type": "display_data"
    }
   ],
   "source": [
    "import matplotlib.pyplot as plt\n",
    "%matplotlib widget\n",
    "\n",
    "fig = plt.figure()\n",
    "plt.plot(cs2[0,0,:])\n",
    "plt.plot(cs2_spline[0,0,:], '--')\n",
    "plt.plot(cs2_spline_2[0,0,:], '-.')"
   ]
  },
  {
   "cell_type": "code",
   "execution_count": 14,
   "metadata": {},
   "outputs": [
    {
     "name": "stderr",
     "output_type": "stream",
     "text": [
      "/tmp/ipykernel_284/3005701431.py:8: RuntimeWarning: invalid value encountered in log\n",
      "  dlnednb[i, j, k] = (np.log(e_r[i, j, k+1]) - np.log(e_r[i, j, k])) / ( h )\n",
      "/tmp/ipykernel_284/3005701431.py:17: RuntimeWarning: invalid value encountered in log\n",
      "  dlnedt[i, k, j] = (np.log(e_r[i, k+1, j]) - np.log(e_r[i, k, j])) / ( h )\n",
      "/tmp/ipykernel_284/3005701431.py:26: RuntimeWarning: invalid value encountered in log\n",
      "  dlnedy[k, i, j] = (np.log(e_r[k+1, i, j]) - np.log(e_r[k, i, j])) / ( h )\n",
      "/tmp/ipykernel_284/3005701431.py:28: RuntimeWarning: divide by zero encountered in divide\n",
      "  gamma = dlnpdnb/dlnednb + dlnpdt/dlnedt + dlnpdy/dlnedy\n",
      "/tmp/ipykernel_284/3005701431.py:28: RuntimeWarning: invalid value encountered in divide\n",
      "  gamma = dlnpdnb/dlnednb + dlnpdt/dlnedt + dlnpdy/dlnedy\n",
      "/tmp/ipykernel_284/3005701431.py:28: RuntimeWarning: invalid value encountered in add\n",
      "  gamma = dlnpdnb/dlnednb + dlnpdt/dlnedt + dlnpdy/dlnedy\n"
     ]
    }
   ],
   "source": [
    "dlnpdnb = np.zeros_like(e_r)\n",
    "dlnednb = np.zeros_like(e_r)\n",
    "for i in range(pointsyq):\n",
    "    for j in range(pointstemp):\n",
    "        for k in range(pointsrho-1):\n",
    "            h = data['eos.nb'][k+1] - data['eos.nb'][k]\n",
    "            dlnpdnb[i, j, k] = (np.log(pressure_s[i, j, k+1]) - np.log(pressure_s[i, j, k])) / ( h )\n",
    "            dlnednb[i, j, k] = (np.log(e_r[i, j, k+1]) - np.log(e_r[i, j, k])) / ( h )\n",
    "\n",
    "dlnpdt = np.zeros_like(e_r)\n",
    "dlnedt = np.zeros_like(e_r)\n",
    "for i in range(pointsyq):\n",
    "    for j in range(pointsrho):\n",
    "        for k in range(pointstemp-1):\n",
    "            h = data['eos.t'][k+1] - data['eos.t'][k]\n",
    "            dlnpdt[i, k, j] = (np.log(pressure_s[i, k+1, j]) - np.log(pressure_s[i, k, j])) / ( h )\n",
    "            dlnedt[i, k, j] = (np.log(e_r[i, k+1, j]) - np.log(e_r[i, k, j])) / ( h )\n",
    "\n",
    "dlnpdy = np.zeros_like(e_r)\n",
    "dlnedy = np.zeros_like(e_r)\n",
    "for i in range(pointstemp):\n",
    "    for j in range(pointsrho):\n",
    "        for k in range(pointsyq-1):\n",
    "            h = data['eos.yq'][k+1] - data['eos.yq'][k]\n",
    "            dlnpdy[k, i, j] = (np.log(pressure_s[k+1, i, j]) - np.log(pressure_s[k, i, j])) / ( h )\n",
    "            dlnedy[k, i, j] = (np.log(e_r[k+1, i, j]) - np.log(e_r[k, i, j])) / ( h )\n",
    "\n",
    "gamma = dlnpdnb/dlnednb + dlnpdt/dlnedt + dlnpdy/dlnedy\n",
    "gamma_cs2 = e_r * cs2 / pressure_s\n",
    "\n",
    "# np.testing.assert_allclose(gamma, gamma_cs2)"
   ]
  },
  {
   "attachments": {},
   "cell_type": "markdown",
   "metadata": {},
   "source": [
    "# Mass fractions $X_i$"
   ]
  },
  {
   "cell_type": "code",
   "execution_count": 15,
   "metadata": {},
   "outputs": [],
   "source": [
    "particle_index = {\n",
    "    0    : 'e',\n",
    "    10   : 'n',\n",
    "    11   : 'p',\n",
    "    100  : 'Λ',\n",
    "    110  : 'Σ−',\n",
    "    111  : 'Σ0',\n",
    "    112  : 'Σ+',\n",
    "    120  : 'Ξ−',\n",
    "    121  : 'Ξ0',\n",
    "    4002 : '24He',\n",
    "    3002 : '23He',\n",
    "    3001 : '13H',\n",
    "    2001 : '12H', \n",
    "    999  : 'other'\n",
    "}\n",
    "particle_index_inv = {v: k for k,v in particle_index.items()}\n",
    "\n",
    "baryonic_number = {\n",
    "    0  : 0,\n",
    "    10 : 1,\n",
    "    11 : 1,\n",
    "    100 : 1,\n",
    "    110 : 1,\n",
    "    111 : 1,\n",
    "    112 : 1,\n",
    "    120 : 1,\n",
    "    121 : 1,\n",
    "    4002 : 4,\n",
    "    3002 : 3,\n",
    "    3001 : 3,\n",
    "    2001 : 2,\n",
    "}\n"
   ]
  },
  {
   "cell_type": "code",
   "execution_count": 16,
   "metadata": {},
   "outputs": [],
   "source": [
    "mass_fractions = {}\n",
    "for i, row in enumerate(data['eos.compo']):\n",
    "    n_pairs = int(row[4])\n",
    "    n_quads = int(row[5 + n_pairs * 2])\n",
    "    \n",
    "    for j in range(5, 5 + n_pairs * 2, 2):\n",
    "        particle = int(row[j])\n",
    "        try:\n",
    "            mass_fractions[f'X{particle_index[particle]}'][i] = row[j+1] * baryonic_number[particle]\n",
    "        except KeyError:\n",
    "            mass_fractions[f'X{particle_index[particle]}'] = np.full(len(data['eos.compo']), np.NaN)\n",
    "            mass_fractions[f'X{particle_index[particle]}'][i] = row[j+1] * baryonic_number[particle]\n",
    "    \n",
    "    if n_quads > 0:\n",
    "        for j in range(5 + n_pairs * 2 + 1, 5 + n_pairs * 2 + n_quads * 4, 4):\n",
    "            particle = int(row[j])\n",
    "            try:\n",
    "                mass_fractions[f'X{particle_index[particle]}'][i] = row[j+1] * row[j+3]\n",
    "            except KeyError:\n",
    "                mass_fractions[f'X{particle_index[particle]}'] = np.full(len(data['eos.compo']), np.NaN)\n",
    "                mass_fractions[f'X{particle_index[particle]}'][i] = row[j+1] * row[j+3]\n",
    "for key in mass_fractions.keys():\n",
    "    mass_fractions[key] = reshape_array(mass_fractions[key], pointsrho, pointstemp, pointsyq)"
   ]
  },
  {
   "cell_type": "code",
   "execution_count": 17,
   "metadata": {},
   "outputs": [],
   "source": [
    "mass_fractions_2 = {}\n",
    "for i, row in enumerate(data['eos.compo']):\n",
    "    # Extract the number of pairs and quads from the current row\n",
    "    n_pairs_2 = int(row[4])\n",
    "    n_quads_2 = int(row[5 + n_pairs_2 * 2])\n",
    "\n",
    "    conc_iter = chain(range(5, 5 + n_pairs_2 * 2, 2), range(5 + n_pairs_2 * 2 + 1, 5 + n_pairs_2 * 2 + 1 + n_quads_2 * 4, 4))\n",
    "    # Iterate through the pairs and quads\n",
    "    for j in conc_iter:\n",
    "        # Get the particle_2\n",
    "        particle_2 = int(row[j])\n",
    "        # If j is within the range of the pairs, get its mass fraction\n",
    "        if j < 5 + n_pairs_2 * 2:\n",
    "            mass_fraction_2 = row[j+1] * baryonic_number[particle_2]\n",
    "        # If j is within the range of the quads, get its mass fraction\n",
    "        else:\n",
    "            mass_fraction_2 = row[j+1] * row[j+3]\n",
    "        \n",
    "        # Try to add the mass fraction to the mass_fractions_2 dictionary\n",
    "        # If the particle_2 is not already in the dictionary, create a new entry\n",
    "        # with a default value of NaN for all indices\n",
    "        try:\n",
    "            mass_fractions_2[f'X{particle_index[particle_2]}'][i] = mass_fraction_2\n",
    "        except KeyError:\n",
    "            mass_fractions_2[f'X{particle_index[particle_2]}'] = np.full(len(data['eos.compo']), np.NaN)\n",
    "            mass_fractions_2[f'X{particle_index[particle_2]}'][i] = mass_fraction_2\n",
    "\n",
    "for key in mass_fractions_2.keys():\n",
    "    mass_fractions_2[key] = reshape_array(mass_fractions_2[key], pointsrho, pointstemp, pointsyq)"
   ]
  },
  {
   "cell_type": "code",
   "execution_count": 18,
   "metadata": {},
   "outputs": [
    {
     "name": "stdout",
     "output_type": "stream",
     "text": [
      "(True, 0)\n"
     ]
    }
   ],
   "source": [
    "\n",
    "print(compare_approximate(mass_fractions, mass_fractions_2))"
   ]
  },
  {
   "attachments": {},
   "cell_type": "markdown",
   "metadata": {},
   "source": [
    "# Chemical Potential"
   ]
  },
  {
   "cell_type": "code",
   "execution_count": 19,
   "metadata": {},
   "outputs": [],
   "source": [
    "free_energy = data['eos.thermo'][:, 9]\n",
    "free_energy = reshape_array(free_energy, pointsrho, pointstemp, pointsyq)"
   ]
  },
  {
   "cell_type": "code",
   "execution_count": 41,
   "metadata": {},
   "outputs": [
    {
     "name": "stderr",
     "output_type": "stream",
     "text": [
      "/tmp/ipykernel_284/3199410053.py:14: RuntimeWarning: invalid value encountered in double_scalars\n",
      "  mus[mu_lbl][k, i, j] = baryonic_number[key] * ( free_energy[k+1, i, j] - free_energy[k, i, j] ) / (mass_fractions[X_lbl][k+1, i, j] - mass_fractions[X_lbl][k, i, j] ) / data['eos.nb'][j]\n",
      "/tmp/ipykernel_284/3199410053.py:14: RuntimeWarning: divide by zero encountered in double_scalars\n",
      "  mus[mu_lbl][k, i, j] = baryonic_number[key] * ( free_energy[k+1, i, j] - free_energy[k, i, j] ) / (mass_fractions[X_lbl][k+1, i, j] - mass_fractions[X_lbl][k, i, j] ) / data['eos.nb'][j]\n",
      "/tmp/ipykernel_284/3199410053.py:14: RuntimeWarning: overflow encountered in double_scalars\n",
      "  mus[mu_lbl][k, i, j] = baryonic_number[key] * ( free_energy[k+1, i, j] - free_energy[k, i, j] ) / (mass_fractions[X_lbl][k+1, i, j] - mass_fractions[X_lbl][k, i, j] ) / data['eos.nb'][j]\n"
     ]
    }
   ],
   "source": [
    "mus = {}\n",
    "\n",
    "for key in particle_index.keys():\n",
    "    if key == 999:\n",
    "        continue\n",
    "\n",
    "    mu_lbl = f'mu_{particle_index[key]}'\n",
    "    X_lbl  = f'X{particle_index[key]}'\n",
    "    mus[mu_lbl] = reshape_array(np.full(len(data['eos.compo']), np.NaN), pointsrho, pointstemp, pointsyq)\n",
    "    \n",
    "    for i in range(pointstemp):\n",
    "        for j in range(pointsrho):\n",
    "            for k in range(pointsyq-1):\n",
    "                mus[mu_lbl][k, i, j] = baryonic_number[key] * ( free_energy[k+1, i, j] - free_energy[k, i, j] ) / (mass_fractions[X_lbl][k+1, i, j] - mass_fractions[X_lbl][k, i, j] ) / data['eos.nb'][j]"
   ]
  },
  {
   "attachments": {},
   "cell_type": "markdown",
   "metadata": {},
   "source": [
    "### Si rompe quando incontra un nan in mass_fractions"
   ]
  },
  {
   "cell_type": "code",
   "execution_count": 21,
   "metadata": {},
   "outputs": [],
   "source": [
    "# # Create an array of shape (pointsyq, pointstemp, pointsrho) filled with NaN values\n",
    "# mus_2 = {}\n",
    "\n",
    "# # Iterate over the particle species\n",
    "# for key in particle_index.keys():\n",
    "#   if key == 999:\n",
    "#     continue\n",
    "  \n",
    "#   lbl = f'mu_{particle_index[key]}'\n",
    "#   mus_2[lbl] = reshape_array(np.full(len(data['eos.compo']), np.NaN), pointsrho, pointstemp, pointsyq)\n",
    "\n",
    "#   for i in range(pointstemp):\n",
    "#     for j in range(pointsrho):\n",
    "#       # Create a cubic spline for the free energy and mass fractions along the pointsyq axis\n",
    "#       free_energy_spline = CubicSpline(np.arange(pointsyq), free_energy[:, i, j]).derivative()(np.arange(pointsyq))\n",
    "#       mass_fractions_spline = CubicSpline(np.arange(pointsyq), mass_fractions[lbl][:, i, j]).derivative()(np.arange(pointsyq))\n",
    "  \n",
    "#       # Compute the differences using the splines\n",
    "#       mus_2[lbl][:, i, j] = baryonic_number[key] * free_energy_spline / mass_fractions_spline / data['eos.nb'][0]"
   ]
  },
  {
   "cell_type": "code",
   "execution_count": 22,
   "metadata": {},
   "outputs": [],
   "source": [
    "# print(compare_approximate(mus, mus_2))"
   ]
  },
  {
   "attachments": {},
   "cell_type": "markdown",
   "metadata": {},
   "source": [
    "# Tutto insieme:"
   ]
  },
  {
   "cell_type": "code",
   "execution_count": 38,
   "metadata": {},
   "outputs": [
    {
     "name": "stderr",
     "output_type": "stream",
     "text": [
      "/tmp/ipykernel_284/3595886807.py:5: RuntimeWarning: invalid value encountered in log10\n",
      "  'logpress_shifted' : logpress , 'pressure_shift': pressure_shift, 'logpress' : np.log10(pressure_r),\n"
     ]
    }
   ],
   "source": [
    "ds = {  \n",
    "        'logrho'   : logrho   , 'pointsrho'     : pointsrho, \n",
    "        'y_q'      : y_q      , 'pointsyq'      : pointsyq, \n",
    "        'logtemp'  : logtemp  , 'pointstemp'    : pointstemp, \n",
    "        'logpress_shifted' : logpress , 'pressure_shift': pressure_shift, 'logpress' : np.log10(pressure_r),\n",
    "        'entropy'  : entropy_r, \n",
    "        'logenergy': logenergy, 'energy_shift'  : energy_shift,\n",
    "        'cs2'      : cs2      , 'cs2_spline'    : cs2_spline,      'gamma'         : gamma\n",
    "    }\n",
    "\n",
    "for key in mass_fractions_2.keys():\n",
    "    ds[key] = mass_fractions_2[key]\n",
    "for key in mus.keys():\n",
    "    ds[key] = mus[key]"
   ]
  },
  {
   "cell_type": "code",
   "execution_count": 39,
   "metadata": {},
   "outputs": [
    {
     "name": "stderr",
     "output_type": "stream",
     "text": [
      "sh: 1: Syntax error: \"(\" unexpected\n"
     ]
    }
   ],
   "source": [
    "os.system(f'rm {OUTPUT}')\n",
    "\n",
    "with h5py.File(OUTPUT, \"w\") as f:\n",
    "    for d in ds:\n",
    "        dset = f.create_dataset(d, data=ds[d], dtype=np.float64)"
   ]
  },
  {
   "cell_type": "code",
   "execution_count": null,
   "metadata": {},
   "outputs": [],
   "source": []
  },
  {
   "cell_type": "code",
   "execution_count": null,
   "metadata": {},
   "outputs": [],
   "source": []
  },
  {
   "cell_type": "code",
   "execution_count": null,
   "metadata": {},
   "outputs": [],
   "source": []
  },
  {
   "cell_type": "code",
   "execution_count": null,
   "metadata": {},
   "outputs": [],
   "source": []
  }
 ],
 "metadata": {
  "kernelspec": {
   "display_name": "venv",
   "language": "python",
   "name": "python3"
  },
  "language_info": {
   "codemirror_mode": {
    "name": "ipython",
    "version": 3
   },
   "file_extension": ".py",
   "mimetype": "text/x-python",
   "name": "python",
   "nbconvert_exporter": "python",
   "pygments_lexer": "ipython3",
   "version": "3.10.6 (main, Nov  2 2022, 18:53:38) [GCC 11.3.0]"
  },
  "orig_nbformat": 4,
  "vscode": {
   "interpreter": {
    "hash": "e93ca5520f225d1ab3b5a16366e62be7f564143f885fceba6e129ad9630726fd"
   }
  }
 },
 "nbformat": 4,
 "nbformat_minor": 2
}
